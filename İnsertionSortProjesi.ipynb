{
  "nbformat": 4,
  "nbformat_minor": 0,
  "metadata": {
    "colab": {
      "provenance": [],
      "authorship_tag": "ABX9TyMgWmU1wzZ8amxkn3ptcRQH",
      "include_colab_link": true
    },
    "kernelspec": {
      "name": "python3",
      "display_name": "Python 3"
    },
    "language_info": {
      "name": "python"
    }
  },
  "cells": [
    {
      "cell_type": "markdown",
      "metadata": {
        "id": "view-in-github",
        "colab_type": "text"
      },
      "source": [
        "<a href=\"https://colab.research.google.com/github/EsmaRuveydaArabaci/Kizbasina-Patika.Dev-DataAnalysisBootcamp/blob/main/%C4%B0nsertionSortProjesi.ipynb\" target=\"_parent\"><img src=\"https://colab.research.google.com/assets/colab-badge.svg\" alt=\"Open In Colab\"/></a>"
      ]
    },
    {
      "cell_type": "markdown",
      "source": [
        "**1. Soru**\n",
        "\n",
        "[22,27,16,2,18,6] -> Insertion Sort\n",
        "\n",
        "Yukarı verilen dizinin sort türüne göre aşamalarını yazınız."
      ],
      "metadata": {
        "id": "UuGCOyt8cvO9"
      }
    },
    {
      "cell_type": "markdown",
      "source": [
        "**Cevap**\n",
        "\n",
        "Insertion Sort mantığında sol taraftan başlayarak her elemanı, kendisinden önceki sıralı kısmın içine yerleştirir.\n",
        "\n",
        "**Başlangıç** → [22, 27, 16, 2, 18, 6]\n",
        "\n",
        "**1.Adım:**  İlk iki eleman (22, 27) zaten sıralı → [22, 27, 16, 2, 18, 6]\n",
        "\n",
        "**2.Adım:**  16’yı doğru yere yerleştir → [16, 22, 27, 2, 18, 6]\n",
        "\n",
        "**3.Adım:**  2’yi doğru yere yerleştir → [2, 16, 22, 27, 18, 6]\n",
        "\n",
        "**4.Adım:**  18’i doğru yere yerleştir → [2, 16, 18, 22, 27, 6]\n",
        "\n",
        "**5.Adım:**  6’yı doğru yere yerleştir → [2, 6, 16, 18, 22, 27]\n",
        "\n",
        "**SONUÇ**  → [2, 6, 16, 18, 22, 27]\n",
        "\n",
        "Bunu kod üzerinde de gösterecek olursak,"
      ],
      "metadata": {
        "id": "gk8sbMaUa2gp"
      }
    },
    {
      "cell_type": "code",
      "execution_count": null,
      "metadata": {
        "colab": {
          "base_uri": "https://localhost:8080/"
        },
        "id": "nFClk6gtav9S",
        "outputId": "2bc95862-6c90-4c9d-bd9b-859c55d05b26"
      },
      "outputs": [
        {
          "output_type": "stream",
          "name": "stdout",
          "text": [
            "Insertion Sort Aşamaları:\n",
            "Adım 1: [22, 27, 16, 2, 18, 6]\n",
            "Adım 2: [16, 22, 27, 2, 18, 6]\n",
            "Adım 3: [2, 16, 22, 27, 18, 6]\n",
            "Adım 4: [2, 16, 18, 22, 27, 6]\n",
            "Adım 5: [2, 6, 16, 18, 22, 27]\n",
            "Sıralanmış Dizi: [2, 6, 16, 18, 22, 27]\n"
          ]
        }
      ],
      "source": [
        "def insertion_sort(arr):\n",
        "    for i in range(1, len(arr)):\n",
        "        key = arr[i]\n",
        "        j = i - 1\n",
        "        # key'den büyük elemanları sağa kaydır\n",
        "        while j >= 0 and arr[j] > key:\n",
        "            arr[j + 1] = arr[j]\n",
        "            j -= 1\n",
        "        arr[j + 1] = key\n",
        "        print(f\"Adım {i}: {arr}\")  # Her adımı yazdır\n",
        "\n",
        "# Dizi\n",
        "arr1 = [22, 27, 16, 2, 18, 6]\n",
        "print(\"Insertion Sort Aşamaları:\")\n",
        "insertion_sort(arr1)\n",
        "print(\"Sıralanmış Dizi:\", arr1)"
      ]
    },
    {
      "cell_type": "markdown",
      "source": [
        "**2.Soru**\n",
        "\n",
        "Big-O gösterimini yazınız."
      ],
      "metadata": {
        "id": "D4oTsCBqdPPH"
      }
    },
    {
      "cell_type": "markdown",
      "source": [
        "**Cevap**\n",
        "\n",
        " O(n²)"
      ],
      "metadata": {
        "id": "x8uY6xlAcaUt"
      }
    },
    {
      "cell_type": "markdown",
      "source": [
        "**3.Soru**\n",
        "\n",
        "Time Complexity: Dizi sıralandıktan sonra 18 sayısı aşağıdaki case'lerden hangisinin kapsamına girer? Yazınız\n",
        "\n",
        "Average case: Aradığımız sayının ortada olması\n",
        "Worst case: Aradığımız sayının sonda olması\n",
        "Best case: Aradığımız sayının dizinin en başında olması."
      ],
      "metadata": {
        "id": "VYlBG9sJdxKW"
      }
    },
    {
      "cell_type": "markdown",
      "source": [
        "**Cevap**\n",
        "\n",
        "Sıralanmış dizi: [2, 6, 16, 18, 22, 27]\n",
        "\n",
        "18 sayısı dizinin ortasında yer alıyor → Average Case"
      ],
      "metadata": {
        "id": "hSptYahAd2CB"
      }
    },
    {
      "cell_type": "markdown",
      "source": [
        "**4.Soru**\n",
        "\n",
        "[7,3,5,8,2,9,4,15,6] dizisinin Selection Sort'a göre ilk 4 adımını yazınız."
      ],
      "metadata": {
        "id": "DOLoDlGkeDsd"
      }
    },
    {
      "cell_type": "markdown",
      "source": [
        "**Cevap**\n",
        "\n",
        "*Selection Sort mantığında her adımda dizinin kalan kısmındaki en küçük eleman bulunur ve başa yerleştirilir.*\n",
        "\n",
        "**Başlangıç:** [7, 3, 5, 8, 2, 9, 4, 15, 6]\n",
        "\n",
        "**1.Adım:** En küçük sayı 2 → yer değiştir → [2, 3, 5, 8, 7, 9, 4, 15, 6]\n",
        "\n",
        "**2.Adım:** Kalan dizide en küçük 3 → zaten başta → [2, 3, 5, 8, 7, 9, 4, 15, 6]\n",
        "\n",
        "**3.Adım:** Kalan dizide en küçük 4 → yer değiştir (5 ile) → [2, 3, 4, 8, 7, 9, 5, 15, 6]\n",
        "\n",
        "**4.Adım:** Kalan dizide en küçük 5 → yer değiştir (8 ile) → [2, 3, 4, 5, 7, 9, 8, 15, 6]\n",
        "\n",
        "Bunu kod üzerinde de gösterecek olursak,"
      ],
      "metadata": {
        "id": "--_eFMZjeKDO"
      }
    },
    {
      "cell_type": "code",
      "source": [
        "def selection_sort(arr):\n",
        "    n = len(arr)\n",
        "    for i in range(n):\n",
        "        min_idx = i\n",
        "        for j in range(i+1, n):\n",
        "            if arr[j] < arr[min_idx]:\n",
        "                min_idx = j\n",
        "        # En küçük elemanı başa al\n",
        "        arr[i], arr[min_idx] = arr[min_idx], arr[i]\n",
        "        print(f\"Adım {i+1}: {arr}\")\n",
        "        if i == 3:  # İlk 4 adımdan sonra dur\n",
        "            break\n",
        "\n",
        "# Dizi\n",
        "arr2 = [7, 3, 5, 8, 2, 9, 4, 15, 6]\n",
        "print(\"\\nSelection Sort İlk 4 Adım:\")\n",
        "selection_sort(arr2)\n"
      ],
      "metadata": {
        "colab": {
          "base_uri": "https://localhost:8080/"
        },
        "id": "v7ejUCjza08C",
        "outputId": "9fd8bd48-96c1-4c5f-bdf6-8b000439f066"
      },
      "execution_count": null,
      "outputs": [
        {
          "output_type": "stream",
          "name": "stdout",
          "text": [
            "\n",
            "Selection Sort İlk 4 Adım:\n",
            "Adım 1: [2, 3, 5, 8, 7, 9, 4, 15, 6]\n",
            "Adım 2: [2, 3, 5, 8, 7, 9, 4, 15, 6]\n",
            "Adım 3: [2, 3, 4, 8, 7, 9, 5, 15, 6]\n",
            "Adım 4: [2, 3, 4, 5, 7, 9, 8, 15, 6]\n"
          ]
        }
      ]
    }
  ]
}