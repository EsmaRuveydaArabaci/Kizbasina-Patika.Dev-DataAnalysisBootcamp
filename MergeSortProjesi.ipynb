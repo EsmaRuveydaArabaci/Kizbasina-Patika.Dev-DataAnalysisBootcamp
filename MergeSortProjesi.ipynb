{
  "nbformat": 4,
  "nbformat_minor": 0,
  "metadata": {
    "colab": {
      "provenance": [],
      "name": "MergeSortProjesi.ipynb",
      "authorship_tag": "ABX9TyPbZQSV0bK7P6/Ol2LZJVhe",
      "include_colab_link": true
    },
    "kernelspec": {
      "name": "python3",
      "display_name": "Python 3"
    },
    "language_info": {
      "name": "python"
    }
  },
  "cells": [
    {
      "cell_type": "markdown",
      "metadata": {
        "id": "view-in-github",
        "colab_type": "text"
      },
      "source": [
        "<a href=\"https://colab.research.google.com/github/EsmaRuveydaArabaci/Kizbasina-Patika.Dev-DataAnalysisBootcamp/blob/main/MergeSortProjesi.ipynb\" target=\"_parent\"><img src=\"https://colab.research.google.com/assets/colab-badge.svg\" alt=\"Open In Colab\"/></a>"
      ]
    },
    {
      "cell_type": "markdown",
      "source": [
        "**SORU**\n",
        "\n",
        "[16,21,11,8,12,22] -> Merge Sort\n",
        "\n",
        "Yukarıdaki dizinin sort türüne göre aşamalarını yazınız.\n",
        "Big-O gösterimini yazınız.\n",
        "\n",
        "**CEVAP**\n",
        "\n",
        "***1) Merge Sort Aşamaları***\n",
        "\n",
        "Merge Sort, böl ve yönet (divide and conquer) yaklaşımıyla çalışır:\n",
        "\n",
        "-Dizi sürekli ikiye bölünür,\n",
        "\n",
        "-En küçük parçalara (tek elemanlı) ayrılır,\n",
        "\n",
        "-Sonra bu parçalar sıralı şekilde birleştirilir.\n",
        "\n",
        "**Verilen Dizi:**\n",
        "[16, 21, 11, 8, 12, 22]\n",
        "\n",
        "**Bölme aşamaları:**\n",
        "[16, 21, 11, 8, 12, 22]\n",
        "\n",
        "[16, 21, 11] ve [8, 12, 22]\n",
        "\n",
        "[16] [21, 11] ve [8] [12, 22]\n",
        "\n",
        "[16] [21] [11] ve [8] [12] [22]\n",
        "\n",
        "**Birleştirme aşamaları (sıralı olarak):**\n",
        "[21] ve [11] → [11, 21]\n",
        "\n",
        "[16] ve [11, 21] → [11, 16, 21]\n",
        "\n",
        "[12] ve [22] → [12, 22]\n",
        "\n",
        "[8] ve [12, 22] → [8, 12, 22]\n",
        "\n",
        "[11, 16, 21] ve [8, 12, 22] → [8, 11, 12, 16, 21, 22]\n",
        "\n",
        "***2) Big-O Gösterimi***\n",
        "\n",
        "Merge Sort’un zaman karmaşıklığı:\n",
        "\n",
        "En iyi, ortalama ve en kötü durumda O(n log n)\n",
        "\n",
        "Sebebi:\n",
        "\n",
        "Her adımda diziyi ikiye bölme işlemi (log n)\n",
        "\n",
        "Her bir seviyede tüm elemanları işleme (n)\n",
        "\n",
        "Alan karmaşıklığı (memory):\n",
        "\n",
        "O(n) — geçici diziler için ekstra hafıza kullanılır.\n"
      ],
      "metadata": {
        "id": "JUoD_QY8gsgy"
      }
    },
    {
      "cell_type": "code",
      "source": [
        "def merge(left, right):\n",
        "    \"\"\"İki sıralı diziyi birleştirir ve sıralı döner.\"\"\"\n",
        "    result = []\n",
        "    i = j = 0\n",
        "\n",
        "    # Her iki dizinin elemanlarını karşılaştırarak sıralı ekle\n",
        "    while i < len(left) and j < len(right):\n",
        "        if left[i] <= right[j]:\n",
        "            result.append(left[i])\n",
        "            i += 1\n",
        "        else:\n",
        "            result.append(right[j])\n",
        "            j += 1\n",
        "\n",
        "    # Kalan elemanları ekle\n",
        "    result.extend(left[i:])\n",
        "    result.extend(right[j:])\n",
        "    return result\n",
        "\n",
        "def merge_sort(arr, depth=0):\n",
        "    \"\"\"Merge Sort algoritması, diziyi parçalar ve birleştirir.\"\"\"\n",
        "    if len(arr) <= 1:\n",
        "        return arr\n",
        "\n",
        "    mid = len(arr) // 2\n",
        "    left = arr[:mid]\n",
        "    right = arr[mid:]\n",
        "\n",
        "    print(\"  \" * depth + f\"Bölme: {arr} -> {left} ve {right}\")\n",
        "\n",
        "    left_sorted = merge_sort(left, depth + 1)\n",
        "    right_sorted = merge_sort(right, depth + 1)\n",
        "\n",
        "    merged = merge(left_sorted, right_sorted)\n",
        "    print(\"  \" * depth + f\"Birleştirme: {left_sorted} + {right_sorted} -> {merged}\")\n",
        "    return merged\n",
        "\n",
        "\n",
        "# Test dizisi\n",
        "arr = [16, 21, 11, 8, 12, 22]\n",
        "print(\"Merge Sort Aşamaları:\")\n",
        "sorted_arr = merge_sort(arr)\n",
        "print(\"\\nSıralanmış Dizi:\", sorted_arr)\n"
      ],
      "metadata": {
        "colab": {
          "base_uri": "https://localhost:8080/"
        },
        "id": "eCCyomnIhg5z",
        "outputId": "8309a404-9480-4e18-ad85-fc6f9a070337"
      },
      "execution_count": null,
      "outputs": [
        {
          "output_type": "stream",
          "name": "stdout",
          "text": [
            "Merge Sort Aşamaları:\n",
            "Bölme: [16, 21, 11, 8, 12, 22] -> [16, 21, 11] ve [8, 12, 22]\n",
            "  Bölme: [16, 21, 11] -> [16] ve [21, 11]\n",
            "    Bölme: [21, 11] -> [21] ve [11]\n",
            "    Birleştirme: [21] + [11] -> [11, 21]\n",
            "  Birleştirme: [16] + [11, 21] -> [11, 16, 21]\n",
            "  Bölme: [8, 12, 22] -> [8] ve [12, 22]\n",
            "    Bölme: [12, 22] -> [12] ve [22]\n",
            "    Birleştirme: [12] + [22] -> [12, 22]\n",
            "  Birleştirme: [8] + [12, 22] -> [8, 12, 22]\n",
            "Birleştirme: [11, 16, 21] + [8, 12, 22] -> [8, 11, 12, 16, 21, 22]\n",
            "\n",
            "Sıralanmış Dizi: [8, 11, 12, 16, 21, 22]\n"
          ]
        }
      ]
    }
  ]
}