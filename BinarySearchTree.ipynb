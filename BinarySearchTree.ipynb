{
  "nbformat": 4,
  "nbformat_minor": 0,
  "metadata": {
    "colab": {
      "provenance": [],
      "authorship_tag": "ABX9TyMPnyXZdB2nuCq9mGzrtpL1",
      "include_colab_link": true
    },
    "kernelspec": {
      "name": "python3",
      "display_name": "Python 3"
    },
    "language_info": {
      "name": "python"
    }
  },
  "cells": [
    {
      "cell_type": "markdown",
      "metadata": {
        "id": "view-in-github",
        "colab_type": "text"
      },
      "source": [
        "<a href=\"https://colab.research.google.com/github/EsmaRuveydaArabaci/Kizbasina-Patika.Dev-DataAnalysisBootcamp/blob/main/BinarySearchTree.ipynb\" target=\"_parent\"><img src=\"https://colab.research.google.com/assets/colab-badge.svg\" alt=\"Open In Colab\"/></a>"
      ]
    },
    {
      "cell_type": "markdown",
      "source": [
        "**SORU**\n",
        "\n",
        "[7, 5, 1, 8, 3, 6, 0, 9, 4, 2] dizisinin Binary-Search-Tree aşamalarını yazınız.\n",
        "\n",
        "Örnek: root x'dir. root'un sağından y bulunur. Solunda z bulunur vb.\n",
        "\n",
        "**CEVAP**\n",
        "\n",
        "***Root = 7***\n",
        "(İlk eleman her zaman root olur.)\n",
        "\n",
        "**1.Adım:** 5 < 7 → 5, 7’nin soluna eklenir.\n",
        "\n",
        "(7 ← 5)\n",
        "\n",
        "**2.Adım:** 1 < 7, 1 < 5 → 1, 5’in soluna eklenir.\n",
        "\n",
        "(7 ← 5 ← 1)\n",
        "\n",
        "**3.Adım:** 8 > 7 → 8, 7’nin sağına eklenir.\n",
        "\n",
        "(7 → 8)\n",
        "\n",
        "**4.Adım:** 3 < 7, 3 < 5, 3 > 1 → 3, 1’in sağına eklenir.\n",
        "\n",
        "**5.Adım:** 6 < 7, 6 > 5 → 6, 5’in sağına eklenir.\n",
        "\n",
        "**6.Adım:** 0 < 7, 0 < 5, 0 < 1 → 0, 1’in soluna eklenir.\n",
        "\n",
        "**7.Adım:** 9 > 7, 9 > 8 → 9, 8’in sağına eklenir.\n",
        "\n",
        "**8.Adım:** 4 < 7, 4 < 5, 4 > 1, 4 > 3 → 4, 3’ün sağına eklenir.\n",
        "\n",
        "**9.Adım:** 2 < 7, 2 < 5, 2 > 1, 2 < 3 → 2, 3’ün soluna eklenir.\n"
      ],
      "metadata": {
        "id": "kI6VlQGUiPZ9"
      }
    },
    {
      "cell_type": "code",
      "source": [
        "class Node:\n",
        "    def __init__(self, value):\n",
        "        self.value = value\n",
        "        self.left = None\n",
        "        self.right = None\n",
        "\n",
        "def insert_bst(root, value):\n",
        "    if root is None:\n",
        "        return Node(value)\n",
        "    if value < root.value:\n",
        "        root.left = insert_bst(root.left, value)\n",
        "    else:\n",
        "        root.right = insert_bst(root.right, value)\n",
        "    return root\n",
        "\n",
        "def print_ascii_tree(node, indent=\"\", is_last=True):\n",
        "    \"\"\"Ağacı terminalde ASCII olarak çizer.\"\"\"\n",
        "    if node is not None:\n",
        "        print(indent, end='')\n",
        "        if is_last:\n",
        "            print(\"└── \", end='')\n",
        "            indent += \"    \"\n",
        "        else:\n",
        "            print(\"├── \", end='')\n",
        "            indent += \"│   \"\n",
        "        print(node.value)\n",
        "        print_ascii_tree(node.left, indent, False)\n",
        "        print_ascii_tree(node.right, indent, True)\n",
        "\n",
        "# Verilen dizi\n",
        "values = [7, 5, 1, 8, 3, 6, 0, 9, 4, 2]\n",
        "\n",
        "# Ağacı oluştur\n",
        "root = None\n",
        "for val in values:\n",
        "    root = insert_bst(root, val)\n",
        "\n",
        "# ASCII görsel çıktı\n",
        "print(\"Binary Search Tree (Görsel):\")\n",
        "print_ascii_tree(root)\n"
      ],
      "metadata": {
        "colab": {
          "base_uri": "https://localhost:8080/"
        },
        "id": "icqR2mU7jPZi",
        "outputId": "56d8bc54-9994-47ec-82a6-d6b0a87938a2"
      },
      "execution_count": 2,
      "outputs": [
        {
          "output_type": "stream",
          "name": "stdout",
          "text": [
            "Binary Search Tree (Görsel):\n",
            "└── 7\n",
            "    ├── 5\n",
            "    │   ├── 1\n",
            "    │   │   ├── 0\n",
            "    │   │   └── 3\n",
            "    │   │       ├── 2\n",
            "    │   │       └── 4\n",
            "    │   └── 6\n",
            "    └── 8\n",
            "        └── 9\n"
          ]
        }
      ]
    }
  ]
}